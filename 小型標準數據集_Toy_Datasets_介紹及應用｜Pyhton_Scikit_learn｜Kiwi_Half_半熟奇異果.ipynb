{
  "nbformat": 4,
  "nbformat_minor": 0,
  "metadata": {
    "colab": {
      "private_outputs": true,
      "provenance": []
    },
    "kernelspec": {
      "name": "python3",
      "display_name": "Python 3"
    },
    "language_info": {
      "name": "python"
    }
  },
  "cells": [
    {
      "cell_type": "markdown",
      "source": [
        "# 介紹 小型標準數據集 Toy Datasets\n",
        "這些是內置於 Scikit-learn 庫中的小型數據集，通常用於演示和測試基本的機器學習演算法。這些數據集的特點是數據量較小，加載快速，非常適合用於教學和快速原型開發。\n",
        "\n",
        "# 主要的小型標準數據集包括：\n",
        "\n",
        "1. Iris（鳶尾花）數據集\n",
        "2. Digits（手寫數字）數據集Boston\n",
        "3. Housing（波士頓房價）數據集\n",
        "4. Breast Cancer Wisconsin（乳腺癌）數據集\n",
        "5. Wine（葡萄酒）數據集\n",
        "6. Linnerud 數據集\n",
        "7. Diabetes（糖尿病）數據集"
      ],
      "metadata": {
        "id": "fABT4Dkyz25Y"
      }
    },
    {
      "cell_type": "markdown",
      "source": [
        "\n",
        "\n",
        "# 應用\n",
        "1. Iris（鳶尾花）數據集\n",
        "\n",
        "包含 150 個樣本，每個樣本有四個特徵（萼片和花瓣的長度及寬度）\n",
        "目標: 用於分類，將樣本分為三個鳶尾花種類之一\n",
        "\n"
      ],
      "metadata": {
        "id": "qR9D8wQLz1vT"
      }
    },
    {
      "cell_type": "code",
      "source": [
        "from sklearn.datasets import load_iris\n",
        "iris = load_iris()\n",
        "X, y = iris.data, iris.target\n"
      ],
      "metadata": {
        "id": "v5lVVohd0Z2e"
      },
      "execution_count": null,
      "outputs": []
    },
    {
      "cell_type": "markdown",
      "source": [
        "\n",
        "2. Digits（手寫數字）數據集\n",
        "\n",
        "包含 1,797 個 8x8 像素的手寫數字圖像。\n",
        "目標: 用於多類分類，識別圖像表示的數字（0到9）。\n",
        "\n"
      ],
      "metadata": {
        "id": "_i5NUxcw0ax2"
      }
    },
    {
      "cell_type": "code",
      "source": [
        "from sklearn.datasets import load_digits\n",
        "digits = load_digits()\n",
        "X, y = digits.data, digits.target\n"
      ],
      "metadata": {
        "id": "H3buLIg-0cfw"
      },
      "execution_count": null,
      "outputs": []
    },
    {
      "cell_type": "markdown",
      "source": [
        "3. Boston Housing（波士頓房價）數據集\n",
        "\n",
        "包含 506 個樣本和 13 個特徵，如犯罪率、房產稅率等。\n",
        "目標: 用於迴歸分析，預測波士頓地區的房屋中位數價格。\n",
        "\n"
      ],
      "metadata": {
        "id": "e6t1m_Zj0cx5"
      }
    },
    {
      "cell_type": "code",
      "source": [
        "from sklearn.datasets import load_boston\n",
        "boston = load_boston()\n",
        "X, y = boston.data, boston.target\n"
      ],
      "metadata": {
        "id": "fkClLcxD0epH"
      },
      "execution_count": null,
      "outputs": []
    },
    {
      "cell_type": "markdown",
      "source": [
        "4. Breast Cancer Wisconsin（威斯康辛乳腺癌）數據集\n",
        "\n",
        "包含 569 個樣本和 30 個特徵，這些特徵從數字化的乳腺組織圖像中計算得出。\n",
        "目標: 用於二元分類，預測乳腺腫瘤是良性還是惡性\n",
        "\n"
      ],
      "metadata": {
        "id": "9p0-biyH0e_Y"
      }
    },
    {
      "cell_type": "code",
      "source": [
        "from sklearn.datasets import load_breast_cancer\n",
        "cancer = load_breast_cancer()\n",
        "X, y = cancer.data, cancer.target\n"
      ],
      "metadata": {
        "id": "bd66J6zQ0gLq"
      },
      "execution_count": null,
      "outputs": []
    },
    {
      "cell_type": "markdown",
      "source": [
        "5. Wine（葡萄酒）數據集\n",
        "\n",
        "包含 178 個樣本和 13 個化學特徵，如酒精含量、蘋果酸含量等\n",
        "目標: 用於多類分類，根據化學分析結果將葡萄酒分為三種類別之一\n",
        "\n"
      ],
      "metadata": {
        "id": "sHGCDGDo0gZf"
      }
    },
    {
      "cell_type": "code",
      "source": [
        "from sklearn.datasets import load_wine\n",
        "wine = load_wine()\n",
        "X, y = wine.data, wine.target\n"
      ],
      "metadata": {
        "id": "C8gmUWuZ0hw6"
      },
      "execution_count": null,
      "outputs": []
    },
    {
      "cell_type": "markdown",
      "source": [
        "6. Linnerud 數據集\n",
        "\n",
        "包含 20 個樣本，每個樣本有三個生理測量特徵（體重、腰圍、脈搏）和三個運動測量特徵（引體向上、仰臥起坐、跳遠）。\n",
        "目標: 用於多輸出迴歸分析\n",
        "\n"
      ],
      "metadata": {
        "id": "m3hnoIb50h_G"
      }
    },
    {
      "cell_type": "code",
      "source": [
        "from sklearn.datasets import load_linnerud\n",
        "linnerud = load_linnerud()\n",
        "X, y = linnerud.data, linnerud.target\n"
      ],
      "metadata": {
        "id": "I2h28ZZj0jIH"
      },
      "execution_count": null,
      "outputs": []
    },
    {
      "cell_type": "markdown",
      "source": [
        "7. Diabetes（糖尿病）數據集\n",
        "\n",
        "包含 442 個樣本和 10 個生物學特徵，如年齡、性別、體重指數、平均血壓和六個血清指標。\n",
        "目標: 用於迴歸分析，預測一年後病情發展的定量指標"
      ],
      "metadata": {
        "id": "EfLMMIxa0jbk"
      }
    },
    {
      "cell_type": "code",
      "source": [
        "from sklearn.datasets import load_diabetes\n",
        "diabetes = load_diabetes()\n",
        "X, y = diabetes.data, diabetes.target\n"
      ],
      "metadata": {
        "id": "dhNjcq0H0j6v"
      },
      "execution_count": null,
      "outputs": []
    }
  ]
}